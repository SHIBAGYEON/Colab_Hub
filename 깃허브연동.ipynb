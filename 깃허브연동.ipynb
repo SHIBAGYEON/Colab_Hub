{
  "nbformat": 4,
  "nbformat_minor": 0,
  "metadata": {
    "colab": {
      "provenance": [],
      "authorship_tag": "ABX9TyMio+DD7LfmZLmG/AftrSVD",
      "include_colab_link": true
    },
    "kernelspec": {
      "name": "python3",
      "display_name": "Python 3"
    },
    "language_info": {
      "name": "python"
    }
  },
  "cells": [
    {
      "cell_type": "markdown",
      "metadata": {
        "id": "view-in-github",
        "colab_type": "text"
      },
      "source": [
        "<a href=\"https://colab.research.google.com/github/SHIBAGYEON/Colab_Hub/blob/main/%EA%B9%83%ED%97%88%EB%B8%8C%EC%97%B0%EB%8F%99.ipynb\" target=\"_parent\"><img src=\"https://colab.research.google.com/assets/colab-badge.svg\" alt=\"Open In Colab\"/></a>"
      ]
    },
    {
      "cell_type": "code",
      "execution_count": 3,
      "metadata": {
        "colab": {
          "base_uri": "https://localhost:8080/"
        },
        "id": "GfiHlWWFMvv1",
        "outputId": "37fe5b5d-b479-4db9-a244-ef6eeaa39057"
      },
      "outputs": [
        {
          "output_type": "stream",
          "name": "stdout",
          "text": [
            "Cloning into 'da_study'...\n",
            "remote: Enumerating objects: 1405, done.\u001b[K\n",
            "remote: Counting objects: 100% (28/28), done.\u001b[K\n",
            "remote: Compressing objects: 100% (18/18), done.\u001b[K\n",
            "remote: Total 1405 (delta 21), reused 10 (delta 10), pack-reused 1377\u001b[K\n",
            "Receiving objects: 100% (1405/1405), 28.84 MiB | 20.53 MiB/s, done.\n",
            "Resolving deltas: 100% (656/656), done.\n"
          ]
        }
      ],
      "source": [
        "!git clone https://github.com/SHIBAGYEON/da_study.git"
      ]
    },
    {
      "cell_type": "code",
      "source": [
        "ls -ltr"
      ],
      "metadata": {
        "colab": {
          "base_uri": "https://localhost:8080/"
        },
        "id": "qqd0VLByV5M0",
        "outputId": "c427e16c-a7f3-4f57-a604-b24d2b309eec"
      },
      "execution_count": 4,
      "outputs": [
        {
          "output_type": "stream",
          "name": "stdout",
          "text": [
            "total 12\n",
            "drwxr-xr-x  1 root root 4096 Mar  5 14:31 \u001b[0m\u001b[01;34msample_data\u001b[0m/\n",
            "drwxr-xr-x  3 root root 4096 Mar  7 14:35 \u001b[01;34mColab_Hub\u001b[0m/\n",
            "drwxr-xr-x 10 root root 4096 Mar  7 14:37 \u001b[01;34mda_study\u001b[0m/\n"
          ]
        }
      ]
    },
    {
      "cell_type": "code",
      "source": [],
      "metadata": {
        "id": "vh6TqbDJWPmY"
      },
      "execution_count": null,
      "outputs": []
    }
  ]
}